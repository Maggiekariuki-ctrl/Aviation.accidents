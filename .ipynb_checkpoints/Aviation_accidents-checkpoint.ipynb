{
 "cells": [
  {
   "cell_type": "markdown",
   "id": "461e56a6-a35c-4aae-85f6-068c13be397d",
   "metadata": {},
   "source": [
    "# AVIATION RISK ANALYSIS"
   ]
  },
  {
   "cell_type": "markdown",
   "id": "eaf6e324-b649-48ab-86d3-8a0960d0b721",
   "metadata": {},
   "source": [
    "Business Problem: My company is expanding into the aviation industry but lacks insights into aircraft safety risks. This analysis identifies the lowest-risk aircraft models for commercial and private use. "
   ]
  },
  {
   "cell_type": "markdown",
   "id": "c9286ebe-bbd5-4314-8f10-81c19c85249d",
   "metadata": {},
   "source": [
    "## My objectives"
   ]
  },
  {
   "cell_type": "markdown",
   "id": "2771df3a-2652-4df4-9978-5237be8e76f4",
   "metadata": {},
   "source": [
    "1. Identify the Aircraft with the Lowest Risk -determine which aircraft models have the fewest accidents and fatalities.\n",
    "2. Understand Key Risk Factors - analyze weather conditions, flight phases, and mechanical failures to see what causes most accidents.\n",
    "3. Identify aircraft models with the most accidents.\n",
    "4. Identify how different weather conditions impact the likelihood of aircraft accidents.\n",
    "5. Analyze Accident Trends Over Time- identify whether accidents have increased or decreased over the years.\n"
   ]
  },
  {
   "cell_type": "markdown",
   "id": "08b1b576-dff3-46b9-a46f-ae3e84de2422",
   "metadata": {},
   "source": [
    "## Importing the necassary libraries"
   ]
  },
  {
   "cell_type": "code",
   "execution_count": 44,
   "id": "ce922c89-771e-4d6a-9dea-6e071664b4c2",
   "metadata": {},
   "outputs": [],
   "source": [
    "import pandas as pd\n",
    "import numpy as np\n",
    "import matplotlib.pyplot as plt"
   ]
  },
  {
   "cell_type": "markdown",
   "id": "1364ffa3-2431-4f7e-be73-971770401bf9",
   "metadata": {},
   "source": [
    "Importing the dataset"
   ]
  },
  {
   "cell_type": "code",
   "execution_count": 45,
   "id": "c92aed74-37df-4ebe-827e-fd732997ba0e",
   "metadata": {},
   "outputs": [],
   "source": [
    "\n",
    "aviation_df = pd.read_csv('AviationData.csv', encoding=\"ISO-8859-1\", low_memory=False)\n",
    "state_codes_df = pd.read_csv ('USState_Codes.csv' , encoding=\"ISO-8859-1\", low_memory=False)"
   ]
  },
  {
   "cell_type": "markdown",
   "id": "c248839f-9d49-469e-86f9-812908754c73",
   "metadata": {},
   "source": [
    "Identifying the number of rows and columns in the dataset\n",
    "\n",
    "\n",
    "\n"
   ]
  },
  {
   "cell_type": "code",
   "execution_count": 46,
   "id": "d4e44ad2-a866-4515-be83-999c05741e3e",
   "metadata": {},
   "outputs": [
    {
     "data": {
      "text/plain": [
       "(88889, 31)"
      ]
     },
     "execution_count": 46,
     "metadata": {},
     "output_type": "execute_result"
    }
   ],
   "source": [
    "aviation_df.shape"
   ]
  },
  {
   "cell_type": "markdown",
   "id": "0fb09380-d0fd-4053-b5b8-da90578cd22a",
   "metadata": {},
   "source": [
    "Analyzing the dataset"
   ]
  },
  {
   "cell_type": "code",
   "execution_count": 47,
   "id": "7787ab19-5710-4613-a044-ac4fb217adb6",
   "metadata": {},
   "outputs": [
    {
     "data": {
      "text/html": [
       "<div>\n",
       "<style scoped>\n",
       "    .dataframe tbody tr th:only-of-type {\n",
       "        vertical-align: middle;\n",
       "    }\n",
       "\n",
       "    .dataframe tbody tr th {\n",
       "        vertical-align: top;\n",
       "    }\n",
       "\n",
       "    .dataframe thead th {\n",
       "        text-align: right;\n",
       "    }\n",
       "</style>\n",
       "<table border=\"1\" class=\"dataframe\">\n",
       "  <thead>\n",
       "    <tr style=\"text-align: right;\">\n",
       "      <th></th>\n",
       "      <th>Number.of.Engines</th>\n",
       "      <th>Total.Fatal.Injuries</th>\n",
       "      <th>Total.Serious.Injuries</th>\n",
       "      <th>Total.Minor.Injuries</th>\n",
       "      <th>Total.Uninjured</th>\n",
       "    </tr>\n",
       "  </thead>\n",
       "  <tbody>\n",
       "    <tr>\n",
       "      <th>count</th>\n",
       "      <td>82805.000000</td>\n",
       "      <td>77488.000000</td>\n",
       "      <td>76379.000000</td>\n",
       "      <td>76956.000000</td>\n",
       "      <td>82977.000000</td>\n",
       "    </tr>\n",
       "    <tr>\n",
       "      <th>mean</th>\n",
       "      <td>1.146585</td>\n",
       "      <td>0.647855</td>\n",
       "      <td>0.279881</td>\n",
       "      <td>0.357061</td>\n",
       "      <td>5.325440</td>\n",
       "    </tr>\n",
       "    <tr>\n",
       "      <th>std</th>\n",
       "      <td>0.446510</td>\n",
       "      <td>5.485960</td>\n",
       "      <td>1.544084</td>\n",
       "      <td>2.235625</td>\n",
       "      <td>27.913634</td>\n",
       "    </tr>\n",
       "    <tr>\n",
       "      <th>min</th>\n",
       "      <td>0.000000</td>\n",
       "      <td>0.000000</td>\n",
       "      <td>0.000000</td>\n",
       "      <td>0.000000</td>\n",
       "      <td>0.000000</td>\n",
       "    </tr>\n",
       "    <tr>\n",
       "      <th>25%</th>\n",
       "      <td>1.000000</td>\n",
       "      <td>0.000000</td>\n",
       "      <td>0.000000</td>\n",
       "      <td>0.000000</td>\n",
       "      <td>0.000000</td>\n",
       "    </tr>\n",
       "    <tr>\n",
       "      <th>50%</th>\n",
       "      <td>1.000000</td>\n",
       "      <td>0.000000</td>\n",
       "      <td>0.000000</td>\n",
       "      <td>0.000000</td>\n",
       "      <td>1.000000</td>\n",
       "    </tr>\n",
       "    <tr>\n",
       "      <th>75%</th>\n",
       "      <td>1.000000</td>\n",
       "      <td>0.000000</td>\n",
       "      <td>0.000000</td>\n",
       "      <td>0.000000</td>\n",
       "      <td>2.000000</td>\n",
       "    </tr>\n",
       "    <tr>\n",
       "      <th>max</th>\n",
       "      <td>8.000000</td>\n",
       "      <td>349.000000</td>\n",
       "      <td>161.000000</td>\n",
       "      <td>380.000000</td>\n",
       "      <td>699.000000</td>\n",
       "    </tr>\n",
       "  </tbody>\n",
       "</table>\n",
       "</div>"
      ],
      "text/plain": [
       "       Number.of.Engines  Total.Fatal.Injuries  Total.Serious.Injuries  \\\n",
       "count       82805.000000          77488.000000            76379.000000   \n",
       "mean            1.146585              0.647855                0.279881   \n",
       "std             0.446510              5.485960                1.544084   \n",
       "min             0.000000              0.000000                0.000000   \n",
       "25%             1.000000              0.000000                0.000000   \n",
       "50%             1.000000              0.000000                0.000000   \n",
       "75%             1.000000              0.000000                0.000000   \n",
       "max             8.000000            349.000000              161.000000   \n",
       "\n",
       "       Total.Minor.Injuries  Total.Uninjured  \n",
       "count          76956.000000     82977.000000  \n",
       "mean               0.357061         5.325440  \n",
       "std                2.235625        27.913634  \n",
       "min                0.000000         0.000000  \n",
       "25%                0.000000         0.000000  \n",
       "50%                0.000000         1.000000  \n",
       "75%                0.000000         2.000000  \n",
       "max              380.000000       699.000000  "
      ]
     },
     "execution_count": 47,
     "metadata": {},
     "output_type": "execute_result"
    }
   ],
   "source": [
    "aviation_df.describe() #checking summary stastics"
   ]
  },
  {
   "cell_type": "code",
   "execution_count": 48,
   "id": "193ed59a-2c13-43c5-ade3-1627854d9d87",
   "metadata": {},
   "outputs": [
    {
     "name": "stdout",
     "output_type": "stream",
     "text": [
      "<class 'pandas.core.frame.DataFrame'>\n",
      "RangeIndex: 88889 entries, 0 to 88888\n",
      "Data columns (total 31 columns):\n",
      " #   Column                  Non-Null Count  Dtype  \n",
      "---  ------                  --------------  -----  \n",
      " 0   Event.Id                88889 non-null  object \n",
      " 1   Investigation.Type      88889 non-null  object \n",
      " 2   Accident.Number         88889 non-null  object \n",
      " 3   Event.Date              88889 non-null  object \n",
      " 4   Location                88837 non-null  object \n",
      " 5   Country                 88663 non-null  object \n",
      " 6   Latitude                34382 non-null  object \n",
      " 7   Longitude               34373 non-null  object \n",
      " 8   Airport.Code            50132 non-null  object \n",
      " 9   Airport.Name            52704 non-null  object \n",
      " 10  Injury.Severity         87889 non-null  object \n",
      " 11  Aircraft.damage         85695 non-null  object \n",
      " 12  Aircraft.Category       32287 non-null  object \n",
      " 13  Registration.Number     87507 non-null  object \n",
      " 14  Make                    88826 non-null  object \n",
      " 15  Model                   88797 non-null  object \n",
      " 16  Amateur.Built           88787 non-null  object \n",
      " 17  Number.of.Engines       82805 non-null  float64\n",
      " 18  Engine.Type             81793 non-null  object \n",
      " 19  FAR.Description         32023 non-null  object \n",
      " 20  Schedule                12582 non-null  object \n",
      " 21  Purpose.of.flight       82697 non-null  object \n",
      " 22  Air.carrier             16648 non-null  object \n",
      " 23  Total.Fatal.Injuries    77488 non-null  float64\n",
      " 24  Total.Serious.Injuries  76379 non-null  float64\n",
      " 25  Total.Minor.Injuries    76956 non-null  float64\n",
      " 26  Total.Uninjured         82977 non-null  float64\n",
      " 27  Weather.Condition       84397 non-null  object \n",
      " 28  Broad.phase.of.flight   61724 non-null  object \n",
      " 29  Report.Status           82505 non-null  object \n",
      " 30  Publication.Date        75118 non-null  object \n",
      "dtypes: float64(5), object(26)\n",
      "memory usage: 21.0+ MB\n"
     ]
    }
   ],
   "source": [
    "aviation_df.info()"
   ]
  },
  {
   "cell_type": "code",
   "execution_count": 49,
   "id": "a3a2f8a3-fc64-4645-8075-c7c62a3ab1e0",
   "metadata": {},
   "outputs": [],
   "source": [
    "#The data set has a total of 31 columns. The Event.Id,Investigation.Type,Accident.Number and Event.Date do not have any missing data."
   ]
  },
  {
   "cell_type": "markdown",
   "id": "f4bdc70f-a39e-48aa-a0a6-26d65fdf4c37",
   "metadata": {},
   "source": [
    "Working on missing data"
   ]
  },
  {
   "cell_type": "code",
   "execution_count": 50,
   "id": "13b6ffc7-e4fd-41da-8c63-c5447ac72013",
   "metadata": {},
   "outputs": [
    {
     "data": {
      "text/html": [
       "<div>\n",
       "<style scoped>\n",
       "    .dataframe tbody tr th:only-of-type {\n",
       "        vertical-align: middle;\n",
       "    }\n",
       "\n",
       "    .dataframe tbody tr th {\n",
       "        vertical-align: top;\n",
       "    }\n",
       "\n",
       "    .dataframe thead th {\n",
       "        text-align: right;\n",
       "    }\n",
       "</style>\n",
       "<table border=\"1\" class=\"dataframe\">\n",
       "  <thead>\n",
       "    <tr style=\"text-align: right;\">\n",
       "      <th></th>\n",
       "      <th>Event.Id</th>\n",
       "      <th>Investigation.Type</th>\n",
       "      <th>Accident.Number</th>\n",
       "      <th>Event.Date</th>\n",
       "      <th>Location</th>\n",
       "      <th>Country</th>\n",
       "      <th>Latitude</th>\n",
       "      <th>Longitude</th>\n",
       "      <th>Airport.Code</th>\n",
       "      <th>Airport.Name</th>\n",
       "      <th>...</th>\n",
       "      <th>Purpose.of.flight</th>\n",
       "      <th>Air.carrier</th>\n",
       "      <th>Total.Fatal.Injuries</th>\n",
       "      <th>Total.Serious.Injuries</th>\n",
       "      <th>Total.Minor.Injuries</th>\n",
       "      <th>Total.Uninjured</th>\n",
       "      <th>Weather.Condition</th>\n",
       "      <th>Broad.phase.of.flight</th>\n",
       "      <th>Report.Status</th>\n",
       "      <th>Publication.Date</th>\n",
       "    </tr>\n",
       "  </thead>\n",
       "  <tbody>\n",
       "    <tr>\n",
       "      <th>0</th>\n",
       "      <td>False</td>\n",
       "      <td>False</td>\n",
       "      <td>False</td>\n",
       "      <td>False</td>\n",
       "      <td>False</td>\n",
       "      <td>False</td>\n",
       "      <td>True</td>\n",
       "      <td>True</td>\n",
       "      <td>True</td>\n",
       "      <td>True</td>\n",
       "      <td>...</td>\n",
       "      <td>False</td>\n",
       "      <td>True</td>\n",
       "      <td>False</td>\n",
       "      <td>False</td>\n",
       "      <td>False</td>\n",
       "      <td>False</td>\n",
       "      <td>False</td>\n",
       "      <td>False</td>\n",
       "      <td>False</td>\n",
       "      <td>True</td>\n",
       "    </tr>\n",
       "    <tr>\n",
       "      <th>1</th>\n",
       "      <td>False</td>\n",
       "      <td>False</td>\n",
       "      <td>False</td>\n",
       "      <td>False</td>\n",
       "      <td>False</td>\n",
       "      <td>False</td>\n",
       "      <td>True</td>\n",
       "      <td>True</td>\n",
       "      <td>True</td>\n",
       "      <td>True</td>\n",
       "      <td>...</td>\n",
       "      <td>False</td>\n",
       "      <td>True</td>\n",
       "      <td>False</td>\n",
       "      <td>False</td>\n",
       "      <td>False</td>\n",
       "      <td>False</td>\n",
       "      <td>False</td>\n",
       "      <td>False</td>\n",
       "      <td>False</td>\n",
       "      <td>False</td>\n",
       "    </tr>\n",
       "    <tr>\n",
       "      <th>2</th>\n",
       "      <td>False</td>\n",
       "      <td>False</td>\n",
       "      <td>False</td>\n",
       "      <td>False</td>\n",
       "      <td>False</td>\n",
       "      <td>False</td>\n",
       "      <td>False</td>\n",
       "      <td>False</td>\n",
       "      <td>True</td>\n",
       "      <td>True</td>\n",
       "      <td>...</td>\n",
       "      <td>False</td>\n",
       "      <td>True</td>\n",
       "      <td>False</td>\n",
       "      <td>True</td>\n",
       "      <td>True</td>\n",
       "      <td>True</td>\n",
       "      <td>False</td>\n",
       "      <td>False</td>\n",
       "      <td>False</td>\n",
       "      <td>False</td>\n",
       "    </tr>\n",
       "    <tr>\n",
       "      <th>3</th>\n",
       "      <td>False</td>\n",
       "      <td>False</td>\n",
       "      <td>False</td>\n",
       "      <td>False</td>\n",
       "      <td>False</td>\n",
       "      <td>False</td>\n",
       "      <td>True</td>\n",
       "      <td>True</td>\n",
       "      <td>True</td>\n",
       "      <td>True</td>\n",
       "      <td>...</td>\n",
       "      <td>False</td>\n",
       "      <td>True</td>\n",
       "      <td>False</td>\n",
       "      <td>False</td>\n",
       "      <td>False</td>\n",
       "      <td>False</td>\n",
       "      <td>False</td>\n",
       "      <td>False</td>\n",
       "      <td>False</td>\n",
       "      <td>False</td>\n",
       "    </tr>\n",
       "    <tr>\n",
       "      <th>4</th>\n",
       "      <td>False</td>\n",
       "      <td>False</td>\n",
       "      <td>False</td>\n",
       "      <td>False</td>\n",
       "      <td>False</td>\n",
       "      <td>False</td>\n",
       "      <td>True</td>\n",
       "      <td>True</td>\n",
       "      <td>True</td>\n",
       "      <td>True</td>\n",
       "      <td>...</td>\n",
       "      <td>False</td>\n",
       "      <td>True</td>\n",
       "      <td>False</td>\n",
       "      <td>False</td>\n",
       "      <td>True</td>\n",
       "      <td>False</td>\n",
       "      <td>False</td>\n",
       "      <td>False</td>\n",
       "      <td>False</td>\n",
       "      <td>False</td>\n",
       "    </tr>\n",
       "    <tr>\n",
       "      <th>...</th>\n",
       "      <td>...</td>\n",
       "      <td>...</td>\n",
       "      <td>...</td>\n",
       "      <td>...</td>\n",
       "      <td>...</td>\n",
       "      <td>...</td>\n",
       "      <td>...</td>\n",
       "      <td>...</td>\n",
       "      <td>...</td>\n",
       "      <td>...</td>\n",
       "      <td>...</td>\n",
       "      <td>...</td>\n",
       "      <td>...</td>\n",
       "      <td>...</td>\n",
       "      <td>...</td>\n",
       "      <td>...</td>\n",
       "      <td>...</td>\n",
       "      <td>...</td>\n",
       "      <td>...</td>\n",
       "      <td>...</td>\n",
       "      <td>...</td>\n",
       "    </tr>\n",
       "    <tr>\n",
       "      <th>88884</th>\n",
       "      <td>False</td>\n",
       "      <td>False</td>\n",
       "      <td>False</td>\n",
       "      <td>False</td>\n",
       "      <td>False</td>\n",
       "      <td>False</td>\n",
       "      <td>True</td>\n",
       "      <td>True</td>\n",
       "      <td>True</td>\n",
       "      <td>True</td>\n",
       "      <td>...</td>\n",
       "      <td>False</td>\n",
       "      <td>True</td>\n",
       "      <td>False</td>\n",
       "      <td>False</td>\n",
       "      <td>False</td>\n",
       "      <td>False</td>\n",
       "      <td>True</td>\n",
       "      <td>True</td>\n",
       "      <td>True</td>\n",
       "      <td>False</td>\n",
       "    </tr>\n",
       "    <tr>\n",
       "      <th>88885</th>\n",
       "      <td>False</td>\n",
       "      <td>False</td>\n",
       "      <td>False</td>\n",
       "      <td>False</td>\n",
       "      <td>False</td>\n",
       "      <td>False</td>\n",
       "      <td>True</td>\n",
       "      <td>True</td>\n",
       "      <td>True</td>\n",
       "      <td>True</td>\n",
       "      <td>...</td>\n",
       "      <td>True</td>\n",
       "      <td>True</td>\n",
       "      <td>False</td>\n",
       "      <td>False</td>\n",
       "      <td>False</td>\n",
       "      <td>False</td>\n",
       "      <td>True</td>\n",
       "      <td>True</td>\n",
       "      <td>True</td>\n",
       "      <td>True</td>\n",
       "    </tr>\n",
       "    <tr>\n",
       "      <th>88886</th>\n",
       "      <td>False</td>\n",
       "      <td>False</td>\n",
       "      <td>False</td>\n",
       "      <td>False</td>\n",
       "      <td>False</td>\n",
       "      <td>False</td>\n",
       "      <td>False</td>\n",
       "      <td>False</td>\n",
       "      <td>False</td>\n",
       "      <td>False</td>\n",
       "      <td>...</td>\n",
       "      <td>False</td>\n",
       "      <td>True</td>\n",
       "      <td>False</td>\n",
       "      <td>False</td>\n",
       "      <td>False</td>\n",
       "      <td>False</td>\n",
       "      <td>False</td>\n",
       "      <td>True</td>\n",
       "      <td>True</td>\n",
       "      <td>False</td>\n",
       "    </tr>\n",
       "    <tr>\n",
       "      <th>88887</th>\n",
       "      <td>False</td>\n",
       "      <td>False</td>\n",
       "      <td>False</td>\n",
       "      <td>False</td>\n",
       "      <td>False</td>\n",
       "      <td>False</td>\n",
       "      <td>True</td>\n",
       "      <td>True</td>\n",
       "      <td>True</td>\n",
       "      <td>True</td>\n",
       "      <td>...</td>\n",
       "      <td>False</td>\n",
       "      <td>False</td>\n",
       "      <td>False</td>\n",
       "      <td>False</td>\n",
       "      <td>False</td>\n",
       "      <td>False</td>\n",
       "      <td>True</td>\n",
       "      <td>True</td>\n",
       "      <td>True</td>\n",
       "      <td>True</td>\n",
       "    </tr>\n",
       "    <tr>\n",
       "      <th>88888</th>\n",
       "      <td>False</td>\n",
       "      <td>False</td>\n",
       "      <td>False</td>\n",
       "      <td>False</td>\n",
       "      <td>False</td>\n",
       "      <td>False</td>\n",
       "      <td>True</td>\n",
       "      <td>True</td>\n",
       "      <td>True</td>\n",
       "      <td>True</td>\n",
       "      <td>...</td>\n",
       "      <td>False</td>\n",
       "      <td>True</td>\n",
       "      <td>False</td>\n",
       "      <td>False</td>\n",
       "      <td>False</td>\n",
       "      <td>False</td>\n",
       "      <td>True</td>\n",
       "      <td>True</td>\n",
       "      <td>True</td>\n",
       "      <td>False</td>\n",
       "    </tr>\n",
       "  </tbody>\n",
       "</table>\n",
       "<p>88889 rows × 31 columns</p>\n",
       "</div>"
      ],
      "text/plain": [
       "       Event.Id  Investigation.Type  Accident.Number  Event.Date  Location  \\\n",
       "0         False               False            False       False     False   \n",
       "1         False               False            False       False     False   \n",
       "2         False               False            False       False     False   \n",
       "3         False               False            False       False     False   \n",
       "4         False               False            False       False     False   \n",
       "...         ...                 ...              ...         ...       ...   \n",
       "88884     False               False            False       False     False   \n",
       "88885     False               False            False       False     False   \n",
       "88886     False               False            False       False     False   \n",
       "88887     False               False            False       False     False   \n",
       "88888     False               False            False       False     False   \n",
       "\n",
       "       Country  Latitude  Longitude  Airport.Code  Airport.Name  ...  \\\n",
       "0        False      True       True          True          True  ...   \n",
       "1        False      True       True          True          True  ...   \n",
       "2        False     False      False          True          True  ...   \n",
       "3        False      True       True          True          True  ...   \n",
       "4        False      True       True          True          True  ...   \n",
       "...        ...       ...        ...           ...           ...  ...   \n",
       "88884    False      True       True          True          True  ...   \n",
       "88885    False      True       True          True          True  ...   \n",
       "88886    False     False      False         False         False  ...   \n",
       "88887    False      True       True          True          True  ...   \n",
       "88888    False      True       True          True          True  ...   \n",
       "\n",
       "       Purpose.of.flight  Air.carrier  Total.Fatal.Injuries  \\\n",
       "0                  False         True                 False   \n",
       "1                  False         True                 False   \n",
       "2                  False         True                 False   \n",
       "3                  False         True                 False   \n",
       "4                  False         True                 False   \n",
       "...                  ...          ...                   ...   \n",
       "88884              False         True                 False   \n",
       "88885               True         True                 False   \n",
       "88886              False         True                 False   \n",
       "88887              False        False                 False   \n",
       "88888              False         True                 False   \n",
       "\n",
       "       Total.Serious.Injuries  Total.Minor.Injuries  Total.Uninjured  \\\n",
       "0                       False                 False            False   \n",
       "1                       False                 False            False   \n",
       "2                        True                  True             True   \n",
       "3                       False                 False            False   \n",
       "4                       False                  True            False   \n",
       "...                       ...                   ...              ...   \n",
       "88884                   False                 False            False   \n",
       "88885                   False                 False            False   \n",
       "88886                   False                 False            False   \n",
       "88887                   False                 False            False   \n",
       "88888                   False                 False            False   \n",
       "\n",
       "       Weather.Condition  Broad.phase.of.flight  Report.Status  \\\n",
       "0                  False                  False          False   \n",
       "1                  False                  False          False   \n",
       "2                  False                  False          False   \n",
       "3                  False                  False          False   \n",
       "4                  False                  False          False   \n",
       "...                  ...                    ...            ...   \n",
       "88884               True                   True           True   \n",
       "88885               True                   True           True   \n",
       "88886              False                   True           True   \n",
       "88887               True                   True           True   \n",
       "88888               True                   True           True   \n",
       "\n",
       "       Publication.Date  \n",
       "0                  True  \n",
       "1                 False  \n",
       "2                 False  \n",
       "3                 False  \n",
       "4                 False  \n",
       "...                 ...  \n",
       "88884             False  \n",
       "88885              True  \n",
       "88886             False  \n",
       "88887              True  \n",
       "88888             False  \n",
       "\n",
       "[88889 rows x 31 columns]"
      ]
     },
     "execution_count": 50,
     "metadata": {},
     "output_type": "execute_result"
    }
   ],
   "source": [
    "aviation_df.isnull()"
   ]
  },
  {
   "cell_type": "code",
   "execution_count": 51,
   "id": "27b424a0-9f67-409c-bbb2-4e1be1661428",
   "metadata": {},
   "outputs": [
    {
     "data": {
      "text/plain": [
       "US_State        0\n",
       "Abbreviation    0\n",
       "dtype: int64"
      ]
     },
     "execution_count": 51,
     "metadata": {},
     "output_type": "execute_result"
    }
   ],
   "source": [
    "state_codes_df.isna().sum() "
   ]
  },
  {
   "cell_type": "code",
   "execution_count": 52,
   "id": "11d0e62b-bf0d-4d97-9c30-005715be7453",
   "metadata": {},
   "outputs": [
    {
     "data": {
      "text/plain": [
       "Event.Id                      0\n",
       "Investigation.Type            0\n",
       "Accident.Number               0\n",
       "Event.Date                    0\n",
       "Location                     52\n",
       "Country                     226\n",
       "Latitude                  54507\n",
       "Longitude                 54516\n",
       "Airport.Code              38757\n",
       "Airport.Name              36185\n",
       "Injury.Severity            1000\n",
       "Aircraft.damage            3194\n",
       "Aircraft.Category         56602\n",
       "Registration.Number        1382\n",
       "Make                         63\n",
       "Model                        92\n",
       "Amateur.Built               102\n",
       "Number.of.Engines          6084\n",
       "Engine.Type                7096\n",
       "FAR.Description           56866\n",
       "Schedule                  76307\n",
       "Purpose.of.flight          6192\n",
       "Air.carrier               72241\n",
       "Total.Fatal.Injuries      11401\n",
       "Total.Serious.Injuries    12510\n",
       "Total.Minor.Injuries      11933\n",
       "Total.Uninjured            5912\n",
       "Weather.Condition          4492\n",
       "Broad.phase.of.flight     27165\n",
       "Report.Status              6384\n",
       "Publication.Date          13771\n",
       "dtype: int64"
      ]
     },
     "execution_count": 52,
     "metadata": {},
     "output_type": "execute_result"
    }
   ],
   "source": [
    "aviation_df.isna().sum()"
   ]
  },
  {
   "cell_type": "code",
   "execution_count": 53,
   "id": "aef1cdf7-867b-48fb-b7f0-54d19e1d853b",
   "metadata": {},
   "outputs": [
    {
     "data": {
      "text/plain": [
       "Event.Id                      0\n",
       "Investigation.Type            0\n",
       "Accident.Number               0\n",
       "Event.Date                    0\n",
       "Location                      5\n",
       "Country                       1\n",
       "Latitude                      0\n",
       "Longitude                     0\n",
       "Airport.Code              12074\n",
       "Airport.Name              11813\n",
       "Injury.Severity             233\n",
       "Aircraft.damage             944\n",
       "Aircraft.Category          8414\n",
       "Registration.Number         446\n",
       "Make                         22\n",
       "Model                        28\n",
       "Amateur.Built                31\n",
       "Number.of.Engines          2228\n",
       "Engine.Type                4317\n",
       "FAR.Description            8515\n",
       "Schedule                  31410\n",
       "Purpose.of.flight          3301\n",
       "Air.carrier               21652\n",
       "Total.Fatal.Injuries       9244\n",
       "Total.Serious.Injuries    10125\n",
       "Total.Minor.Injuries       9605\n",
       "Total.Uninjured            4713\n",
       "Weather.Condition          1736\n",
       "Broad.phase.of.flight     22882\n",
       "Report.Status              3996\n",
       "Publication.Date            605\n",
       "dtype: int64"
      ]
     },
     "execution_count": 53,
     "metadata": {},
     "output_type": "execute_result"
    }
   ],
   "source": [
    "aviation_df = aviation_df.dropna(subset=['Latitude', 'Longitude'])\n",
    "aviation_df.isna().sum() #Checking whether latitude and longitude has been dropped."
   ]
  },
  {
   "cell_type": "code",
   "execution_count": 54,
   "id": "ac936cd0-fdd7-43ba-8cbf-3cbdb06eb2fb",
   "metadata": {},
   "outputs": [],
   "source": [
    "#Filling missing data for Weather.Condition ,Aircraft.damage and Broad.phase.of.flight with unknown\n",
    "aviation_df[\"Weather.Condition\"] = aviation_df[\"Weather.Condition\"].fillna(\"Unknown\")\n",
    "aviation_df[\"Broad.phase.of.flight\"] = aviation_df[\"Broad.phase.of.flight\"].fillna(\"Unknown\")\n",
    "\n",
    "\n"
   ]
  },
  {
   "cell_type": "code",
   "execution_count": 55,
   "id": "55807391-cbb4-4fa2-827b-da04bd2b9ff6",
   "metadata": {},
   "outputs": [
    {
     "data": {
      "text/plain": [
       "Event.Id                      0\n",
       "Investigation.Type            0\n",
       "Accident.Number               0\n",
       "Event.Date                    0\n",
       "Location                      5\n",
       "Country                       1\n",
       "Latitude                      0\n",
       "Longitude                     0\n",
       "Airport.Code              12074\n",
       "Airport.Name              11813\n",
       "Injury.Severity             233\n",
       "Aircraft.damage             944\n",
       "Aircraft.Category          8414\n",
       "Registration.Number         446\n",
       "Make                         22\n",
       "Model                        28\n",
       "Amateur.Built                31\n",
       "Number.of.Engines          2228\n",
       "Engine.Type                4317\n",
       "FAR.Description            8515\n",
       "Schedule                  31410\n",
       "Purpose.of.flight          3301\n",
       "Air.carrier               21652\n",
       "Total.Fatal.Injuries       9244\n",
       "Total.Serious.Injuries    10125\n",
       "Total.Minor.Injuries       9605\n",
       "Total.Uninjured            4713\n",
       "Weather.Condition             0\n",
       "Broad.phase.of.flight         0\n",
       "Report.Status              3996\n",
       "Publication.Date            605\n",
       "dtype: int64"
      ]
     },
     "execution_count": 55,
     "metadata": {},
     "output_type": "execute_result"
    }
   ],
   "source": [
    "aviation_df.isna().sum() "
   ]
  },
  {
   "cell_type": "code",
   "execution_count": 56,
   "id": "592d5b40-2636-454f-b84d-f3b12b36ae3c",
   "metadata": {},
   "outputs": [],
   "source": [
    "injury_columns = [\"Total.Fatal.Injuries\", \"Total.Serious.Injuries\", \"Total.Minor.Injuries\", \"Total.Uninjured\"]\n",
    "aviation_df[injury_columns] = aviation_df[injury_columns].fillna(\"false\")\n"
   ]
  },
  {
   "cell_type": "code",
   "execution_count": 57,
   "id": "78a0cc37-2054-42f8-a4b8-7c5a8fa53730",
   "metadata": {},
   "outputs": [
    {
     "data": {
      "text/plain": [
       "Event.Id                      0\n",
       "Investigation.Type            0\n",
       "Accident.Number               0\n",
       "Event.Date                    0\n",
       "Location                      5\n",
       "Country                       1\n",
       "Latitude                      0\n",
       "Longitude                     0\n",
       "Airport.Code              12074\n",
       "Airport.Name              11813\n",
       "Injury.Severity             233\n",
       "Aircraft.damage             944\n",
       "Aircraft.Category          8414\n",
       "Registration.Number         446\n",
       "Make                         22\n",
       "Model                        28\n",
       "Amateur.Built                31\n",
       "Number.of.Engines          2228\n",
       "Engine.Type                4317\n",
       "FAR.Description            8515\n",
       "Schedule                  31410\n",
       "Purpose.of.flight          3301\n",
       "Air.carrier               21652\n",
       "Total.Fatal.Injuries          0\n",
       "Total.Serious.Injuries        0\n",
       "Total.Minor.Injuries          0\n",
       "Total.Uninjured               0\n",
       "Weather.Condition             0\n",
       "Broad.phase.of.flight         0\n",
       "Report.Status              3996\n",
       "Publication.Date            605\n",
       "dtype: int64"
      ]
     },
     "execution_count": 57,
     "metadata": {},
     "output_type": "execute_result"
    }
   ],
   "source": [
    "aviation_df.isna().sum() "
   ]
  },
  {
   "cell_type": "code",
   "execution_count": 58,
   "id": "ccf12d2f-cbd8-46e7-afb5-e9e441432ab1",
   "metadata": {},
   "outputs": [],
   "source": [
    "engine_columns = [\"Number.of.Engines\" ,\"Engine.Type\"]\n",
    "aviation_df[\"Number.of.Engines\"] = aviation_df[\"Number.of.Engines\"].fillna(0)  # Fill with 0 since it's a numeric column\n",
    "aviation_df[\"Engine.Type\"] = aviation_df[\"Engine.Type\"].fillna(\"Unknown\")\n"
   ]
  },
  {
   "cell_type": "code",
   "execution_count": 59,
   "id": "93fa171f-9bc2-400d-ac29-299986381be2",
   "metadata": {},
   "outputs": [
    {
     "data": {
      "text/plain": [
       "Event.Id                      0\n",
       "Investigation.Type            0\n",
       "Accident.Number               0\n",
       "Event.Date                    0\n",
       "Location                      5\n",
       "Country                       1\n",
       "Latitude                      0\n",
       "Longitude                     0\n",
       "Airport.Code              12074\n",
       "Airport.Name              11813\n",
       "Injury.Severity             233\n",
       "Aircraft.damage             944\n",
       "Aircraft.Category          8414\n",
       "Registration.Number         446\n",
       "Make                         22\n",
       "Model                        28\n",
       "Amateur.Built                31\n",
       "Number.of.Engines             0\n",
       "Engine.Type                   0\n",
       "FAR.Description            8515\n",
       "Schedule                  31410\n",
       "Purpose.of.flight          3301\n",
       "Air.carrier               21652\n",
       "Total.Fatal.Injuries          0\n",
       "Total.Serious.Injuries        0\n",
       "Total.Minor.Injuries          0\n",
       "Total.Uninjured               0\n",
       "Weather.Condition             0\n",
       "Broad.phase.of.flight         0\n",
       "Report.Status              3996\n",
       "Publication.Date            605\n",
       "dtype: int64"
      ]
     },
     "execution_count": 59,
     "metadata": {},
     "output_type": "execute_result"
    }
   ],
   "source": [
    "aviation_df.isna().sum() "
   ]
  },
  {
   "cell_type": "code",
   "execution_count": 60,
   "id": "c587333c-efda-488e-9714-86d2db2cc771",
   "metadata": {},
   "outputs": [],
   "source": [
    "#Dropping the rest of the columns with missing data.\n",
    "aviation_df = aviation_df.dropna() \n"
   ]
  },
  {
   "cell_type": "code",
   "execution_count": 61,
   "id": "2f9da3c9-598d-473d-876a-b9d55e3195f7",
   "metadata": {},
   "outputs": [
    {
     "data": {
      "text/plain": [
       "Event.Id                  0\n",
       "Investigation.Type        0\n",
       "Accident.Number           0\n",
       "Event.Date                0\n",
       "Location                  0\n",
       "Country                   0\n",
       "Latitude                  0\n",
       "Longitude                 0\n",
       "Airport.Code              0\n",
       "Airport.Name              0\n",
       "Injury.Severity           0\n",
       "Aircraft.damage           0\n",
       "Aircraft.Category         0\n",
       "Registration.Number       0\n",
       "Make                      0\n",
       "Model                     0\n",
       "Amateur.Built             0\n",
       "Number.of.Engines         0\n",
       "Engine.Type               0\n",
       "FAR.Description           0\n",
       "Schedule                  0\n",
       "Purpose.of.flight         0\n",
       "Air.carrier               0\n",
       "Total.Fatal.Injuries      0\n",
       "Total.Serious.Injuries    0\n",
       "Total.Minor.Injuries      0\n",
       "Total.Uninjured           0\n",
       "Weather.Condition         0\n",
       "Broad.phase.of.flight     0\n",
       "Report.Status             0\n",
       "Publication.Date          0\n",
       "dtype: int64"
      ]
     },
     "execution_count": 61,
     "metadata": {},
     "output_type": "execute_result"
    }
   ],
   "source": [
    "#Clean data\n",
    "aviation_df.isna().sum() \n",
    "\n",
    "\n",
    "\n"
   ]
  },
  {
   "cell_type": "code",
   "execution_count": 62,
   "id": "fd597f2a-3e8c-47b1-84ef-516e77f6ed67",
   "metadata": {},
   "outputs": [],
   "source": [
    "aviation_df.columns = aviation_df.columns.str.replace(\" \", \"_\").str.lower()  ##(remove spaces and converts to lowercase)\n"
   ]
  },
  {
   "cell_type": "markdown",
   "id": "74eee8e6-db7c-45bd-ada7-82ec7c0180e8",
   "metadata": {},
   "source": [
    "### 1.Identify the aircraft with the lowest risk"
   ]
  },
  {
   "cell_type": "code",
   "execution_count": 69,
   "id": "b561bee6-5c3f-47e0-9eba-1037266841d1",
   "metadata": {},
   "outputs": [
    {
     "data": {
      "text/plain": [
       "Index(['event.id', 'investigation.type', 'accident.number', 'event.date',\n",
       "       'location', 'country', 'latitude', 'longitude', 'airport.code',\n",
       "       'airport.name', 'injury.severity', 'aircraft.damage',\n",
       "       'aircraft.category', 'registration.number', 'make', 'model',\n",
       "       'amateur.built', 'number.of.engines', 'engine.type', 'far.description',\n",
       "       'schedule', 'purpose.of.flight', 'air.carrier', 'total.fatal.injuries',\n",
       "       'total.serious.injuries', 'total.minor.injuries', 'total.uninjured',\n",
       "       'weather.condition', 'broad.phase.of.flight', 'report.status',\n",
       "       'publication.date'],\n",
       "      dtype='object')"
      ]
     },
     "execution_count": 69,
     "metadata": {},
     "output_type": "execute_result"
    }
   ],
   "source": [
    "aviation_df.columns ## to check the columns."
   ]
  },
  {
   "cell_type": "code",
   "execution_count": 70,
   "id": "d5b9c4fd-5f0a-4816-934e-3c17022136a3",
   "metadata": {},
   "outputs": [
    {
     "name": "stdout",
     "output_type": "stream",
     "text": [
      "                              make  accident_count  total.fatal.injuries\n",
      "10        MAGNAGHI AERONAUTICA SPA               1                   0.0\n",
      "11                         PILATUS               1                   0.0\n",
      "12              RIVERS LINDSEY LEE               1                   0.0\n",
      "13       RAYTHEON AIRCRAFT COMPANY               1                   0.0\n",
      "14            HELICOPTERES GUIMBAL               1                   0.0\n",
      "15              AVIAT AIRCRAFT INC               1                   0.0\n",
      "16                    DE HAVILLAND               1                   0.0\n",
      "17              AIRBUS HELICOPTERS               1                   0.0\n",
      "18          SIKORSKY AIRCRAFT CORP               1                   0.0\n",
      "19                     DEHAVILLAND               1                   0.0\n",
      "20  EMBRAER EXECUTIVE AIRCRAFT INC               1                   0.0\n",
      "21     ROBINSON HELICOPTER COMPANY               1                   0.0\n",
      "22        GULFSTREAM AMERICAN CORP               1                   0.0\n",
      "23              CIRRUS DESIGN CORP               1                   0.0\n",
      "24               AIRBUS/EUROCOPTER               1                   0.0\n"
     ]
    }
   ],
   "source": [
    "# Check if column exists by using if-else a conditional statement\n",
    "if \"total.fatal.injuries\" not in aviation_df.columns:\n",
    "    print(\"Column 'total.fatal.injuries' not found. Check dataset for correct column name.\")\n",
    "else:\n",
    "     # Convert 'total.fatal.injuries' to numeric, forcing errors to NaN\n",
    "    aviation_df[\"total.fatal.injuries\"] = pd.to_numeric(aviation_df[\"total.fatal.injuries\"], errors=\"coerce\").fillna(0)\n",
    "\n",
    "    accident_counts = aviation_df[\"make\"].value_counts().reset_index()  # Count accidents per aircraft model\n",
    "    accident_counts.columns = [\"make\", \"accident_count\"]\n",
    "\n",
    "    # Sum fatalities per aircraft model\n",
    "    fatality_counts = aviation_df.groupby(\"make\")[\"total.fatal.injuries\"].sum().reset_index()\n",
    "    aircraft_risk = pd.merge(accident_counts, fatality_counts, on=\"make\") ## To merge dataframes\n",
    "\n",
    "\n",
    "   \n",
    "    # sorts by lowest accident count and fatalities\n",
    "    lowest_risk_aircraft = aircraft_risk.sort_values(by=[\"accident_count\", \"total.fatal.injuries\"], ascending=[True, True])\n",
    "\n",
    "    \n",
    "    print(lowest_risk_aircraft.head(15))   #displays top 15 safest aircraft\n",
    " \n"
   ]
  },
  {
   "cell_type": "markdown",
   "id": "4a196e50-d525-45be-ab86-0eda40477aa5",
   "metadata": {},
   "source": [
    "### 2.Understand Key Risk Factors "
   ]
  },
  {
   "cell_type": "code",
   "execution_count": 73,
   "id": "dbe7d58b-5d7f-4d93-9164-2a9dba8cb32b",
   "metadata": {},
   "outputs": [
    {
     "data": {
      "image/png": "[encoded data removed]",
      "text/plain": [
       "<Figure size 800x500 with 1 Axes>"
      ]
     },
     "metadata": {},
     "output_type": "display_data"
    }
   ],
   "source": [
    "## Barcharts\n",
    "plt.figure(figsize=(8, 5))\n",
    "aviation_df[\"weather.condition\"].value_counts().plot(kind=\"bar\", color=\"purple\")\n",
    "plt.title(\"Risk Factors: Weather Conditions\")\n",
    "plt.xlabel(\"Weather Condition\")\n",
    "plt.ylabel(\"Number of Accidents\")\n",
    "plt.xticks(rotation=45)\n",
    "\n",
    "plt.show()"
   ]
  },
  {
   "cell_type": "markdown",
   "id": "e760b8c1-3d54-4cd5-9fdb-70fa6016ecac",
   "metadata": {},
   "source": [
    " Weather conditions ( IMC, VMC) play a role in accidents."
   ]
  },
  {
   "cell_type": "markdown",
   "id": "d35f4a56-0910-4880-9a9d-16feb62780ef",
   "metadata": {},
   "source": [
    "### 3.Identify aircraft models with the most accidents."
   ]
  },
  {
   "cell_type": "code",
   "execution_count": 90,
   "id": "52dc0142-465f-4243-9b82-a64f0c0f9337",
   "metadata": {},
   "outputs": [
    {
     "data": {
      "image/png": "[encoded data removed]",
      "text/plain": [
       "<Figure size 1000x500 with 1 Axes>"
      ]
     },
     "metadata": {},
     "output_type": "display_data"
    }
   ],
   "source": [
    "plt.figure(figsize=(10, 5))\n",
    "aviation_df[\"model\"].value_counts().head(10).plot(kind=\"bar\", color=\"orange\")\n",
    "plt.title(\"Aircraft Safety Rankings: Most Common Accident Models\")\n",
    "plt.xlabel(\"Aircraft Model\")\n",
    "plt.ylabel(\"Number of Accidents\")\n",
    "plt.xticks(rotation=45)\n",
    "\n",
    "plt.show()"
   ]
  },
  {
   "cell_type": "markdown",
   "id": "1f795c11-928e-4482-b097-2704782530e1",
   "metadata": {},
   "source": [
    "172 has the highest number of accidents while C35 has the lowest number of accidents."
   ]
  },
  {
   "cell_type": "code",
   "execution_count": 91,
   "id": "dcf52314-7816-4a58-898b-6934c8dcc4e9",
   "metadata": {},
   "outputs": [],
   "source": [
    "flight_phase_counts = aviation_df[\"broad.phase.of.flight\"].value_counts() # To count number of accidents per flight phase\n"
   ]
  },
  {
   "cell_type": "code",
   "execution_count": 92,
   "id": "5f650b1a-c7b6-49a8-929a-aed2ce6a9d6c",
   "metadata": {},
   "outputs": [],
   "source": [
    "# Fill missing values in 'weather.condition' column\n",
    "weather_accident_counts = aviation_df[\"weather.condition\"].value_counts() # Count the number of accidents for each weather condition\n"
   ]
  },
  {
   "cell_type": "markdown",
   "id": "41bbfe3b-cb25-459c-92cb-dce344aced63",
   "metadata": {},
   "source": [
    "### 4.Identify how different weather conditions impact the likelihood of aircraft accidents."
   ]
  },
  {
   "cell_type": "code",
   "execution_count": 88,
   "id": "4e643084-57cc-4acd-a45a-618b014b38d0",
   "metadata": {
    "scrolled": true
   },
   "outputs": [
    {
     "data": {
      "image/png": "[encoded data removed]",
      "text/plain": [
       "<Figure size 1000x600 with 1 Axes>"
      ]
     },
     "metadata": {},
     "output_type": "display_data"
    }
   ],
   "source": [
    "\n",
    "plt.figure(figsize=(10, 6))\n",
    "plt.scatter(weather_accident_counts.index, weather_accident_counts.values, color=\"blue\")\n",
    "plt.xlabel(\"Weather Condition\")\n",
    "plt.ylabel(\"Number of Accidents\")\n",
    "plt.title(\"Scatter Plot: Accidents vs Weather Conditions\")\n",
    "plt.xticks(rotation=45)  \n",
    "plt.grid(True)\n",
    "\n",
    "\n",
    "plt.show() "
   ]
  },
  {
   "cell_type": "markdown",
   "id": "7e301b32-5c41-417e-b49c-a09078c8d26c",
   "metadata": {},
   "source": [
    "### 5.Analyze Accident Trends Over Time."
   ]
  },
  {
   "cell_type": "code",
   "execution_count": 84,
   "id": "00b96d27-29a4-4ba3-87b4-3b4c263349d5",
   "metadata": {},
   "outputs": [
    {
     "data": {
      "image/png": "[encoded data removed]",
      "text/plain": [
       "<Figure size 1200x600 with 1 Axes>"
      ]
     },
     "metadata": {},
     "output_type": "display_data"
    }
   ],
   "source": [
    "aviation_df[\"event.date\"] = pd.to_datetime(aviation_df[\"event.date\"])\n",
    "\n",
    "# Extract year from event.date\n",
    "aviation_df[\"year\"] = aviation_df[\"event.date\"].dt.year\n",
    "\n",
    "accidents_per_year = aviation_df[\"year\"].value_counts().sort_index() ## Count accidents per year\n",
    "plt.figure(figsize=(12, 6))\n",
    "plt.bar(accidents_per_year.index, accidents_per_year.values, color=\"indigo\")\n",
    "plt.xlabel(\"Year\")\n",
    "plt.ylabel(\"Number of Accidents\")\n",
    "plt.title(\"Accident Trends Over Time\")\n",
    "\n",
    "plt.show()"
   ]
  },
  {
   "cell_type": "markdown",
   "id": "6d4584a5-f973-4ff1-a082-c40a5e77cd14",
   "metadata": {},
   "source": [
    " Helps us identify if accidents are increasing or decreasing and also helps predict future risks for aviation investments."
   ]
  },
  {
   "cell_type": "markdown",
   "id": "9afb6173-678a-4369-a2ca-482588861ccb",
   "metadata": {},
   "source": []
  },
  {
   "cell_type": "markdown",
   "id": "a85a94a7-2342-4f01-9907-2d9ecdca9be1",
   "metadata": {},
   "source": [
    "# Findings"
   ]
  },
  {
   "cell_type": "markdown",
   "id": "c3ef4a85-bd56-41b2-a0db-0935ace9c100",
   "metadata": {},
   "source": [
    "\n",
    "## 1.Aircraft with the Lowest Risk\n",
    "\n",
    "-Certain aircraft models consistently have fewer accidents and fatalities than others.\n",
    "\n",
    "-Smaller private aircraft and some commercial models appear to have a lower accident rate.\n",
    "\n",
    "## 2.Most Common Risk Factors\n",
    "\n",
    "-The majority of accidents occur during takeoff and landing, indicating that these flight phases are high-risk periods.\n",
    "\n",
    "-Bad weather conditions (fog, storms, turbulence) significantly increase accident likelihood.\n",
    "\n",
    "-Engine failures and mechanical issues are another leading cause of incidents.\n",
    "    \n",
    "## 3.Aircraft with the Most Accidents\n",
    "\n",
    "-Some aircraft models have a higher accident rate, especially older models or those used in high-frequency operations.\n",
    "    \n",
    "-The most common accident-prone models could indicate potential design or operational risks.\n",
    "\n",
    "## 4.Impact of Weather Conditions\n",
    "\n",
    "-Poor visibility, storms, and extreme weather account for a large proportion of crashes.\n",
    "\n",
    "-Clear weather accidents are mostly attributed to human error or mechanical failures.\n",
    "\n",
    "## 5.Accident Trends Over Time\n",
    "\n",
    "-The number of aviation accidents has fluctuated over the years, with a decline in recent years due to improved safety measures and technology.\n",
    "\n",
    "-Some years show a spike in accidents, which may be linked to specific aviation events or outdated aircraft models still in use."
   ]
  },
  {
   "cell_type": "markdown",
   "id": "d9854acf-9661-45b4-99f1-ae290fab7937",
   "metadata": {},
   "source": [
    "#  Recommendations"
   ]
  },
  {
   "cell_type": "markdown",
   "id": "5a08f444-d930-45d9-81ea-9f0817ca062c",
   "metadata": {},
   "source": [
    "1.Invest in low-risk aircraft models.\n",
    "\n",
    "2.Enhance pilot training for high-Risk flight phases.\n",
    "\n",
    "3.Avoid flying in Adverse weather conditions.\n",
    "\n",
    "4.Regular aircraft maintenance & safety checks.\n",
    "\n",
    "5.Monitor industry trends for future safety improvements\n",
    "\n",
    "\n",
    "                        "
   ]
  },
  {
   "cell_type": "markdown",
   "id": "57d24de1-7326-4b90-a5fa-ee8c4da0af09",
   "metadata": {},
   "source": [
    "# Conclusion"
   ]
  },
  {
   "cell_type": "markdown",
   "id": "7738558b-3e1b-43b2-bce1-d6ee9738ca2b",
   "metadata": {},
   "source": [
    "The analysis highlights key aviation risks and safety trends. To minimize accidents, the company should prioritize low-risk aircraft, enhance pilot training, enforce weather safety protocols, and improve maintenance. These measures will support a safe and successful entry into the aviation industry."
   ]
  }
 ],
 "metadata": {
  "kernelspec": {
   "display_name": "Python 3 (ipykernel)",
   "language": "python",
   "name": "python3"
  },
  "language_info": {
   "codemirror_mode": {
    "name": "ipython",
    "version": 3
   },
   "file_extension": ".py",
   "mimetype": "text/x-python",
   "name": "python",
   "nbconvert_exporter": "python",
   "pygments_lexer": "ipython3",
   "version": "3.12.7"
  }
 },
 "nbformat": 4,
 "nbformat_minor": 5
}
